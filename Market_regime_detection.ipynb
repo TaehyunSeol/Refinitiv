{
  "nbformat": 4,
  "nbformat_minor": 0,
  "metadata": {
    "colab": {
      "private_outputs": true,
      "provenance": []
    },
    "kernelspec": {
      "name": "python3",
      "display_name": "Python 3"
    },
    "language_info": {
      "name": "python"
    }
  },
  "cells": [
    {
      "cell_type": "code",
      "source": [
        "# 필요한 라이브러리 설치\n",
        "\n",
        "# !pip install -q hmmlearn\n",
        "# !pip install -q plotly\n",
        "# !pip install -q sklearn\n",
        "# !pip install -q yfinance"
      ],
      "metadata": {
        "id": "XpA4YZ3pjYTQ"
      },
      "execution_count": null,
      "outputs": []
    },
    {
      "cell_type": "code",
      "execution_count": null,
      "metadata": {
        "id": "M14qZ3ytjTfo"
      },
      "outputs": [],
      "source": [
        "# 필요한 라이브러리 호출\n",
        "\n",
        "import numpy as np\n",
        "from sklearn.cluster import KMeans\n",
        "import pandas as pd\n",
        "from hmmlearn.hmm import GaussianHMM\n",
        "import plotly.graph_objects as go\n",
        "from plotly.graph_objs.scatter.marker import Line\n",
        "from plotly.subplots import make_subplots\n",
        "import plotly.express as px\n",
        "from sklearn.cluster import AgglomerativeClustering\n",
        "from sklearn.mixture import GaussianMixture\n",
        "import warnings\n",
        "import math\n",
        "import yfinance as yf\n",
        "\n",
        "# 날짜 관리\n",
        "import datetime\n",
        "from datetime import datetime, timedelta\n",
        "\n",
        "warnings.filterwarnings('ignore')"
      ]
    },
    {
      "cell_type": "code",
      "source": [
        "# yfinance로 데이터 불러오기\n",
        "\n",
        "# 파라미터\n",
        "ticker = '^KS11' # KOSPI(^KS11), KOSPI 200(^KS200), S&P 500(^SPX), S&P 500 선물(ES=F)\n",
        "start_dt = (datetime.now() - timedelta(days=365*30)).strftime('%Y-%m-%d')\n",
        "end_dt = (datetime.now() - timedelta(days=1)).strftime('%Y-%m-%d')\n",
        "\n",
        "# 데이터 불러오기\n",
        "prices = yf.download(ticker, start=start_dt, end=end_dt)\n",
        "prices = prices[['Close']]\n",
        "prices.columns = [ticker]\n",
        "prices"
      ],
      "metadata": {
        "id": "MV2Dg7GMxm00"
      },
      "execution_count": null,
      "outputs": []
    },
    {
      "cell_type": "code",
      "source": [
        "# 호출한 데이터 확인\n",
        "\n",
        "trading_instrument = prices.columns[0]\n",
        "prices.columns.name = trading_instrument\n",
        "px.line(prices[trading_instrument])"
      ],
      "metadata": {
        "id": "ny0vEBKAk_ax"
      },
      "execution_count": null,
      "outputs": []
    },
    {
      "cell_type": "code",
      "source": [
        "# 모델에 넣을 데이터 준비\n",
        "\n",
        "def prepare_data_for_model_input(prices, ma):\n",
        "    '''\n",
        "        Input:\n",
        "        prices (df) - Dataframe of close prices\n",
        "        ma (int) - legth of the moveing average\n",
        "\n",
        "        Output:\n",
        "        prices(df) - An enhanced prices dataframe, with moving averages and log return columns\n",
        "        prices_array(nd.array) - an array of log returns\n",
        "    '''\n",
        "\n",
        "    intrument = prices.columns.name\n",
        "    prices[f'{intrument}_ma'] = prices.rolling(ma).mean()\n",
        "    prices[f'{intrument}_log_return'] = np.log(prices[f'{intrument}_ma']/prices[f'{intrument}_ma'].shift(1)).dropna()\n",
        "\n",
        "    prices.dropna(inplace = True)\n",
        "    prices_array = np.array([[q] for q in prices[f'{intrument}_log_return'].values])\n",
        "\n",
        "    return prices, prices_array"
      ],
      "metadata": {
        "id": "B4t-DaxbmExw"
      },
      "execution_count": null,
      "outputs": []
    },
    {
      "cell_type": "code",
      "source": [
        "# 모델에 넣을 데이터 확인\n",
        "\n",
        "prices, prices_array = prepare_data_for_model_input(prices, 7)\n",
        "print(prices.info())\n",
        "prices"
      ],
      "metadata": {
        "id": "xWqOrZPPmHWB"
      },
      "execution_count": null,
      "outputs": []
    },
    {
      "cell_type": "code",
      "source": [
        "# 레짐을 확인할 모델\n",
        "\n",
        "class RegimeDetection:\n",
        "\n",
        "    def get_regimes_hmm(self, input_data, params):\n",
        "        hmm_model = self.initialise_model(GaussianHMM(), params).fit(input_data)\n",
        "        return hmm_model\n",
        "\n",
        "    def get_regimes_clustering(self, params):\n",
        "        clustering =  self.initialise_model(AgglomerativeClustering(), params)\n",
        "        return clustering\n",
        "\n",
        "    def get_regimes_gmm(self, input_data, params):\n",
        "        gmm = self.initialise_model(GaussianMixture(), params).fit(input_data)\n",
        "        return gmm\n",
        "\n",
        "    def initialise_model(self, model, params):\n",
        "        for parameter, value in params.items():\n",
        "            setattr(model, parameter, value)\n",
        "        return model\n",
        ""
      ],
      "metadata": {
        "id": "6WwoqO4EmJCg"
      },
      "execution_count": null,
      "outputs": []
    },
    {
      "cell_type": "code",
      "source": [
        "# 시각화 함수\n",
        "\n",
        "def plot_hidden_states(hidden_states, prices_df):\n",
        "\n",
        "    '''\n",
        "    Input:\n",
        "    hidden_states(numpy.ndarray) - array of predicted hidden states\n",
        "    prices_df(df) - dataframe of close prices\n",
        "\n",
        "    Output:\n",
        "    Graph showing hidden states and prices\n",
        "\n",
        "    '''\n",
        "\n",
        "    colors = ['blue', 'green']\n",
        "    n_components = len(np.unique(hidden_states))\n",
        "    fig = go.Figure()\n",
        "\n",
        "    for i in range(n_components):\n",
        "        mask = hidden_states == i\n",
        "        print('Number of observations for State ', i,\":\", len(prices_df.index[mask]))\n",
        "\n",
        "        fig.add_trace(go.Scatter(x=prices_df.index[mask], y=prices_df[f\"{prices_df.columns.name}\"][mask],\n",
        "                    mode='markers',  name='Hidden State ' + str(i), marker=dict(size=4,color=colors[i])))\n",
        "\n",
        "    fig.update_layout(height=400, width=900, legend=dict(\n",
        "            yanchor=\"top\", y=0.99, xanchor=\"left\",x=0.01), margin=dict(l=20, r=20, t=20, b=20)).show()\n"
      ],
      "metadata": {
        "id": "0VWdjHlpmN2g"
      },
      "execution_count": null,
      "outputs": []
    },
    {
      "cell_type": "code",
      "source": [
        "# 레짐 확인\n",
        "regime_detection = RegimeDetection()"
      ],
      "metadata": {
        "id": "AIyJD9BzmPmI"
      },
      "execution_count": null,
      "outputs": []
    },
    {
      "cell_type": "code",
      "source": [
        "# 클러스터링 모델 확인\n",
        "\n",
        "params = {'n_clusters': 2, 'linkage': 'complete', 'metric': 'manhattan', 'random_state':100}\n",
        "\n",
        "clustering = regime_detection.get_regimes_clustering(params)\n",
        "clustering_states = clustering.fit_predict(prices_array)\n",
        "\n",
        "plot_hidden_states(np.array(clustering_states), prices[[f'{trading_instrument}']])"
      ],
      "metadata": {
        "id": "RqpyKfS0mREQ"
      },
      "execution_count": null,
      "outputs": []
    },
    {
      "cell_type": "code",
      "source": [
        "# gmm 모델 확인\n",
        "params = {'n_components':2, 'covariance_type': 'full', 'max_iter': 100000, 'n_init': 30,'init_params': 'kmeans', 'random_state':100}\n",
        "\n",
        "gmm_model = regime_detection.get_regimes_gmm(prices_array, params)\n",
        "gmm_states = gmm_model.predict(prices_array)\n",
        "\n",
        "plot_hidden_states(np.array(gmm_states), prices[[f'{trading_instrument}']])"
      ],
      "metadata": {
        "id": "pONP2kCznOgX"
      },
      "execution_count": null,
      "outputs": []
    },
    {
      "cell_type": "code",
      "source": [
        "# hmm 모델 확인\n",
        "params = {'n_components':2, 'covariance_type':\"full\", 'random_state':100}\n",
        "\n",
        "hmm_model = regime_detection.get_regimes_hmm(prices_array, params)\n",
        "hmm_states = hmm_model.predict(prices_array)\n",
        "\n",
        "plot_hidden_states(np.array(hmm_states), prices[[f'{trading_instrument}']])"
      ],
      "metadata": {
        "id": "NzurcVtLoST_"
      },
      "execution_count": null,
      "outputs": []
    },
    {
      "cell_type": "code",
      "source": [
        "# 머신러닝을 활용한 모델 확인\n",
        "\n",
        "def feed_forward_training(model, params, prices, split_index, retrain_step):\n",
        "    '''\n",
        "    Input:\n",
        "    model (<class 'method'>) - either gmm (Gaussian Mixture Models) or hmm (Hidden Markov Model)\n",
        "    params (dict) - dictionary of parameters for a model\n",
        "    prices (df) - Dataframe of close prices\n",
        "    split_index (str) - index to split initial traing dataset and out of sample testing set\n",
        "    retrain_step (int) - number of observations after which we retrain the model\n",
        "\n",
        "    Output:\n",
        "    states_pred (numpy.ndarray) - array of predicted hidden states\n",
        "    '''\n",
        "    # train/test split and initial model training\n",
        "    init_train_data = prices[:split_index]\n",
        "    test_data = prices[split_index:]\n",
        "    rd_model = model(init_train_data, params)\n",
        "\n",
        "    # predict the state of the next observation\n",
        "    states_pred = []\n",
        "    for i in range(math.ceil(len(test_data))):\n",
        "        split_index += 1\n",
        "        preds = rd_model.predict(prices[:split_index]).tolist()\n",
        "        states_pred.append(preds[-1])\n",
        "\n",
        "        # retrain the existing model\n",
        "        if i % retrain_step == 0:\n",
        "            rd_model = model(prices[:split_index], params)\n",
        "\n",
        "    return  states_pred"
      ],
      "metadata": {
        "id": "k5Cq0h4moa-b"
      },
      "execution_count": null,
      "outputs": []
    },
    {
      "cell_type": "code",
      "source": [
        "# gmm 테스트\n",
        "\n",
        "model_gmm =  regime_detection.get_regimes_gmm\n",
        "params = {'n_components':2, 'covariance_type':\"full\", 'random_state':100, 'max_iter': 100000, 'n_init': 30,'init_params': 'kmeans', 'random_state':100}\n",
        "split_index = np.where(prices.index > '2006-01-01')[0][0]"
      ],
      "metadata": {
        "id": "YqhoHK9pocpP"
      },
      "execution_count": null,
      "outputs": []
    },
    {
      "cell_type": "code",
      "source": [
        "states_pred_gmm = feed_forward_training(model_gmm, params, prices_array, split_index, 20)\n",
        "plot_hidden_states(np.array(states_pred_gmm), prices[[f'{trading_instrument}']][split_index:])"
      ],
      "metadata": {
        "id": "wuQ3ojMGoeB2"
      },
      "execution_count": null,
      "outputs": []
    },
    {
      "cell_type": "code",
      "source": [
        "# hmm 테스트\n",
        "model_hmm =  regime_detection.get_regimes_hmm\n",
        "params = {'n_components':2, 'covariance_type': 'full', 'random_state':100}"
      ],
      "metadata": {
        "id": "gGMj-4eyogqP"
      },
      "execution_count": null,
      "outputs": []
    },
    {
      "cell_type": "code",
      "source": [
        "states_pred_hmm = feed_forward_training(model_hmm, params, prices_array, split_index, 20)\n",
        "plot_hidden_states(np.array(states_pred_hmm), prices[[f'{trading_instrument}']][split_index:])"
      ],
      "metadata": {
        "id": "OAg43mk9ol9H"
      },
      "execution_count": null,
      "outputs": []
    },
    {
      "cell_type": "code",
      "source": [
        "prices_with_states = pd.DataFrame(prices[split_index:][f'{trading_instrument}'])\n",
        "prices_with_states['State'] = states_pred_hmm\n",
        "prices_with_states.head()"
      ],
      "metadata": {
        "id": "ThfJT6I5omLf"
      },
      "execution_count": null,
      "outputs": []
    },
    {
      "cell_type": "code",
      "source": [
        "prices_with_states['P&L_daily'] = np.log(prices_with_states[trading_instrument] / prices_with_states[trading_instrument].shift(1)).dropna()\n",
        "prices_with_states.head()"
      ],
      "metadata": {
        "id": "hScxs8uKooDR"
      },
      "execution_count": null,
      "outputs": []
    },
    {
      "cell_type": "code",
      "source": [
        "prices_with_states['State'] = prices_with_states['State'].shift(1)\n",
        "prices_with_states.dropna(inplace = True)"
      ],
      "metadata": {
        "id": "gt6dQW48opEv"
      },
      "execution_count": null,
      "outputs": []
    },
    {
      "cell_type": "code",
      "source": [
        "prices_with_states['Position'] = np.where(prices_with_states['State'] == 1,1,-1)\n",
        "prices_with_states.head()"
      ],
      "metadata": {
        "id": "sFvVArSNoqMn"
      },
      "execution_count": null,
      "outputs": []
    },
    {
      "cell_type": "code",
      "source": [
        "prices_with_states[prices_with_states['State']==0].tail(20)"
      ],
      "metadata": {
        "id": "ytIZnXqXWZbi"
      },
      "execution_count": null,
      "outputs": []
    },
    {
      "cell_type": "code",
      "source": [
        "prices_with_states['Daily_Outcome_hmm'] = prices_with_states['Position'] * prices_with_states['P&L_daily']\n",
        "prices_with_states['Cumulative_Outcome_BaH'] = prices_with_states['P&L_daily'].cumsum()\n",
        "prices_with_states['Cumulative_Outcome_hmm'] = prices_with_states['Daily_Outcome_hmm'].cumsum()\n",
        "prices_with_states"
      ],
      "metadata": {
        "id": "pqlP2lHOorfP"
      },
      "execution_count": null,
      "outputs": []
    },
    {
      "cell_type": "code",
      "source": [
        "fig = go.Figure()\n",
        "\n",
        "fig.add_trace(go.Line(x=prices_with_states.index, y=prices_with_states[\"Cumulative_Outcome_BaH\"],\n",
        "                      name = 'Cumulative_Outcome_BaH', line_color = 'navy'))\n",
        "\n",
        "fig.add_trace(go.Line(x= prices_with_states.index, y=prices_with_states['Cumulative_Outcome_hmm'],\n",
        "                      name = 'Cumulative_Outcome_hmm', line_color = 'olive'))\n",
        "\n",
        "fig.add_trace(go.Line(x= prices_with_states.index, y=prices_with_states['Cumulative_Outcome_hmm']-prices_with_states[\"Cumulative_Outcome_BaH\"],\n",
        "                      name = 'Cumulative_Outcome_hmm-Cumulative_Outcome_BaH', line_color = 'red'))\n",
        "\n",
        "fig.update_layout(height=400, width=900, legend=dict(\n",
        "    yanchor=\"top\", y=0.99, xanchor=\"left\",x=0.01),\n",
        "    margin=dict(l=20, r=20, t=20, b=20))\n",
        "\n",
        "fig.show()"
      ],
      "metadata": {
        "id": "oApaDWDxosdn"
      },
      "execution_count": null,
      "outputs": []
    },
    {
      "cell_type": "code",
      "source": [],
      "metadata": {
        "id": "t8ZWkPLRTahL"
      },
      "execution_count": null,
      "outputs": []
    }
  ]
}